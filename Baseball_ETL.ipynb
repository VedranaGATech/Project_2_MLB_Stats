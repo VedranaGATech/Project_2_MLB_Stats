{
 "cells": [
  {
   "cell_type": "markdown",
   "id": "cc7d383a",
   "metadata": {},
   "source": [
    "# Baseball ETL"
   ]
  },
  {
   "cell_type": "markdown",
   "id": "d332a791",
   "metadata": {},
   "source": [
    "### Imports"
   ]
  },
  {
   "cell_type": "code",
   "execution_count": 1,
   "id": "596cbcc2",
   "metadata": {},
   "outputs": [],
   "source": [
    "from sqlalchemy.ext.automap import automap_base\n",
    "from sqlalchemy.orm import Session\n",
    "from sqlalchemy import create_engine, func, inspect\n",
    "from config import pg_pwd\n",
    "import psycopg2\n",
    "\n",
    "from bs4 import BeautifulSoup as bs\n",
    "import requests\n",
    "\n",
    "import pandas as pd\n",
    "import numpy as np"
   ]
  },
  {
   "cell_type": "markdown",
   "id": "596091cf",
   "metadata": {},
   "source": [
    "### Initializations"
   ]
  },
  {
   "cell_type": "code",
   "execution_count": 2,
   "id": "8a22d9ff",
   "metadata": {},
   "outputs": [],
   "source": [
    "#db initializations\n",
    "engine = create_engine(f'postgresql://{pg_pwd}/MoneyBall')\n",
    "\n",
    "Base = automap_base()\n",
    "Base.prepare(autoload_with=engine)\n",
    "session = Session(engine)"
   ]
  },
  {
   "cell_type": "markdown",
   "id": "18fd579a",
   "metadata": {},
   "source": [
    "### ETL Baseball Cities"
   ]
  },
  {
   "cell_type": "code",
   "execution_count": 3,
   "id": "0c39ae09",
   "metadata": {},
   "outputs": [],
   "source": [
    "# initialize\n",
    "City = Base.classes.City\n",
    "\n",
    "# extract\n",
    "url = 'https://www.worldatlas.com/articles/mlb-teams-and-their-cities.html'\n",
    "\n",
    "response = requests.get(url)\n",
    "soup = bs(response.text, 'html.parser')\n",
    "result = soup.find('tbody')\n",
    "rows = result.find_all('tr')"
   ]
  },
  {
   "cell_type": "code",
   "execution_count": 4,
   "id": "cb28ea40",
   "metadata": {},
   "outputs": [],
   "source": [
    "# transfer and load\n",
    "\n",
    "for row in rows:\n",
    "    cols = row.find_all('td')\n",
    "    cols = [ele.text.strip() for ele in cols]   \n",
    "    cols = cols[2].split(', ')\n",
    "    \n",
    "    city = City(cityname=cols[0], statename=cols[1])  \n",
    "    session.add(city)\n",
    "    session.commit()"
   ]
  },
  {
   "cell_type": "code",
   "execution_count": null,
   "id": "a27f25ef",
   "metadata": {},
   "outputs": [],
   "source": []
  },
  {
   "cell_type": "code",
   "execution_count": 5,
   "id": "fa6114f9",
   "metadata": {},
   "outputs": [],
   "source": [
    "# ETL Baseball Teams"
   ]
  },
  {
   "cell_type": "code",
   "execution_count": null,
   "id": "b07f9a57",
   "metadata": {},
   "outputs": [],
   "source": []
  },
  {
   "cell_type": "code",
   "execution_count": 6,
   "id": "02b15128",
   "metadata": {},
   "outputs": [],
   "source": [
    "# ETL Baseball Players"
   ]
  },
  {
   "cell_type": "code",
   "execution_count": null,
   "id": "a82d49c8",
   "metadata": {},
   "outputs": [],
   "source": []
  },
  {
   "cell_type": "code",
   "execution_count": 7,
   "id": "f9a7bdbd",
   "metadata": {},
   "outputs": [],
   "source": [
    "# ETL Baseball Player Salaries"
   ]
  },
  {
   "cell_type": "code",
   "execution_count": null,
   "id": "6a18aff2",
   "metadata": {},
   "outputs": [],
   "source": []
  },
  {
   "cell_type": "code",
   "execution_count": 8,
   "id": "71a1108a",
   "metadata": {},
   "outputs": [],
   "source": [
    "# ETL Baseball Player Batting"
   ]
  },
  {
   "cell_type": "code",
   "execution_count": null,
   "id": "22f92490",
   "metadata": {},
   "outputs": [],
   "source": []
  },
  {
   "cell_type": "code",
   "execution_count": 9,
   "id": "820452a5",
   "metadata": {},
   "outputs": [],
   "source": [
    "# ETL Baseball Player Pitching"
   ]
  },
  {
   "cell_type": "code",
   "execution_count": null,
   "id": "2fc6b189",
   "metadata": {},
   "outputs": [],
   "source": []
  },
  {
   "cell_type": "code",
   "execution_count": 10,
   "id": "125f11f1",
   "metadata": {},
   "outputs": [],
   "source": [
    "# ETL Baseball Player Cards"
   ]
  },
  {
   "cell_type": "code",
   "execution_count": null,
   "id": "fe68ad50",
   "metadata": {},
   "outputs": [],
   "source": []
  },
  {
   "cell_type": "code",
   "execution_count": 11,
   "id": "aa037f1d",
   "metadata": {},
   "outputs": [],
   "source": [
    "# ETL Baseball Team Patroll"
   ]
  },
  {
   "cell_type": "code",
   "execution_count": null,
   "id": "b7361f61",
   "metadata": {},
   "outputs": [],
   "source": []
  },
  {
   "cell_type": "code",
   "execution_count": 13,
   "id": "326f4d6e",
   "metadata": {},
   "outputs": [],
   "source": [
    "session.close()\n",
    "engine.dispose()"
   ]
  },
  {
   "cell_type": "code",
   "execution_count": null,
   "id": "281e3246",
   "metadata": {},
   "outputs": [],
   "source": []
  }
 ],
 "metadata": {
  "kernelspec": {
   "display_name": "Python 3 (ipykernel)",
   "language": "python",
   "name": "python3"
  },
  "language_info": {
   "codemirror_mode": {
    "name": "ipython",
    "version": 3
   },
   "file_extension": ".py",
   "mimetype": "text/x-python",
   "name": "python",
   "nbconvert_exporter": "python",
   "pygments_lexer": "ipython3",
   "version": "3.9.12"
  }
 },
 "nbformat": 4,
 "nbformat_minor": 5
}
