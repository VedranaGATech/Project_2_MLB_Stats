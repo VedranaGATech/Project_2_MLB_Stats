{
 "cells": [
  {
   "cell_type": "markdown",
   "id": "cc7d383a",
   "metadata": {},
   "source": [
    "# Baseball ETL"
   ]
  },
  {
   "cell_type": "markdown",
   "id": "d332a791",
   "metadata": {},
   "source": [
    "### Imports"
   ]
  },
  {
   "cell_type": "code",
   "execution_count": 1,
   "id": "596cbcc2",
   "metadata": {},
   "outputs": [],
   "source": [
    "from bs4 import BeautifulSoup as bs\n",
    "import requests\n",
    "\n",
    "import pandas as pd\n",
    "from config import newpg_pwd\n",
    "import psycopg2 \n",
    "import numpy as np\n",
    "\n",
    "from sqlalchemy.ext.automap import automap_base\n",
    "from sqlalchemy.orm import Session\n",
    "from sqlalchemy import create_engine, func, inspect"
   ]
  },
  {
   "cell_type": "markdown",
   "id": "596091cf",
   "metadata": {},
   "source": [
    "### Initializations"
   ]
  },
  {
   "cell_type": "code",
   "execution_count": 2,
   "id": "9fb62f0d",
   "metadata": {},
   "outputs": [
    {
     "data": {
      "text/plain": [
       "'postgres:password@localhost'"
      ]
     },
     "execution_count": 2,
     "metadata": {},
     "output_type": "execute_result"
    }
   ],
   "source": [
    "newpg_pwd"
   ]
  },
  {
   "cell_type": "code",
   "execution_count": 3,
   "id": "8a22d9ff",
   "metadata": {},
   "outputs": [],
   "source": [
    "#db initializations\n",
    "#engine = create_engine(f'postgresql://{newpg_pwd}/MoneyBall')\n",
    "#connection = engine.connect()"
   ]
  },
  {
   "cell_type": "markdown",
   "id": "18fd579a",
   "metadata": {},
   "source": [
    "### ETL Baseball Cities"
   ]
  },
  {
   "cell_type": "code",
   "execution_count": 4,
   "id": "0c39ae09",
   "metadata": {},
   "outputs": [],
   "source": [
    "url = 'https://www.worldatlas.com/articles/mlb-teams-and-their-cities.html'\n",
    "\n",
    "response = requests.get(url)\n",
    "soup = bs(response.text, 'html.parser')\n",
    "result = soup.find('tbody')\n",
    "rows = result.find_all('tr')"
   ]
  },
  {
   "cell_type": "code",
   "execution_count": 5,
   "id": "cb28ea40",
   "metadata": {},
   "outputs": [
    {
     "data": {
      "text/plain": [
       "[\"['Baltimore', 'Maryland']\",\n",
       " \"['Boston', 'Massachusetts']\",\n",
       " \"['New York City', 'New York']\",\n",
       " \"['St. Petersburg', 'Florida']\",\n",
       " \"['Toronto', 'Ontario']\",\n",
       " \"['Chicago', 'Illinois']\",\n",
       " \"['Cleveland', 'Ohio']\",\n",
       " \"['Detroit', 'Michigan']\",\n",
       " \"['Kansas City', 'Missouri']\",\n",
       " \"['Minneapolis', 'Minnesota']\",\n",
       " \"['Houston', 'Texas']\",\n",
       " \"['Anaheim', 'California']\",\n",
       " \"['Oakland', 'California']\",\n",
       " \"['Seattle', 'Washington']\",\n",
       " \"['Arlington', 'Texas']\",\n",
       " \"['Atlanta', 'Georgia']\",\n",
       " \"['Miami', 'Florida']\",\n",
       " \"['New York City', 'New York']\",\n",
       " \"['Philadelphia', 'Pennsylvania']\",\n",
       " \"['Washington', 'D.C.']\",\n",
       " \"['Chicago', 'Illinois']\",\n",
       " \"['Cincinnati', 'Ohio']\",\n",
       " \"['Milwaukee', 'Wisconsin']\",\n",
       " \"['Pittsburgh', 'Pennsylvania']\",\n",
       " \"['St. Louis', 'Missouri']\",\n",
       " \"['Phoenix', 'Arizona']\",\n",
       " \"['Denver', 'Colorado']\",\n",
       " \"['Los Angeles', 'California']\",\n",
       " \"['San Diego', 'California']\",\n",
       " \"['San Francisco', 'California']\"]"
      ]
     },
     "execution_count": 5,
     "metadata": {},
     "output_type": "execute_result"
    }
   ],
   "source": [
    "cities = []\n",
    "\n",
    "for row in rows:\n",
    "    cols = row.find_all('td')\n",
    "    cols = [ele.text.strip() for ele in cols]\n",
    "    cities.append(f\"{cols[2].split(', ')}\")\n",
    "    \n",
    "cities\n",
    "# add ORM inserts into cities"
   ]
  },
  {
   "cell_type": "code",
   "execution_count": null,
   "id": "a27f25ef",
   "metadata": {},
   "outputs": [],
   "source": []
  },
  {
   "cell_type": "code",
   "execution_count": 6,
   "id": "fa6114f9",
   "metadata": {},
   "outputs": [],
   "source": [
    "# ETL Baseball Teams"
   ]
  },
  {
   "cell_type": "code",
   "execution_count": null,
   "id": "b07f9a57",
   "metadata": {},
   "outputs": [],
   "source": []
  },
  {
   "cell_type": "code",
   "execution_count": 7,
   "id": "02b15128",
   "metadata": {},
   "outputs": [],
   "source": [
    "# ETL Baseball Players"
   ]
  },
  {
   "cell_type": "code",
   "execution_count": null,
   "id": "a82d49c8",
   "metadata": {},
   "outputs": [],
   "source": []
  },
  {
   "cell_type": "code",
   "execution_count": 8,
   "id": "f9a7bdbd",
   "metadata": {},
   "outputs": [],
   "source": [
    "# ETL Baseball Player Salaries"
   ]
  },
  {
   "cell_type": "code",
   "execution_count": null,
   "id": "6a18aff2",
   "metadata": {},
   "outputs": [],
   "source": []
  },
  {
   "cell_type": "code",
   "execution_count": 9,
   "id": "71a1108a",
   "metadata": {},
   "outputs": [],
   "source": [
    "# ETL Baseball Player Batting"
   ]
  },
  {
   "cell_type": "code",
   "execution_count": null,
   "id": "22f92490",
   "metadata": {},
   "outputs": [],
   "source": []
  },
  {
   "cell_type": "code",
   "execution_count": 10,
   "id": "820452a5",
   "metadata": {},
   "outputs": [],
   "source": [
    "# ETL Baseball Player Pitching"
   ]
  },
  {
   "cell_type": "code",
   "execution_count": null,
   "id": "2fc6b189",
   "metadata": {},
   "outputs": [],
   "source": []
  },
  {
   "cell_type": "code",
   "execution_count": 11,
   "id": "125f11f1",
   "metadata": {},
   "outputs": [],
   "source": [
    "# ETL Baseball Player Cards"
   ]
  },
  {
   "cell_type": "code",
   "execution_count": null,
   "id": "fe68ad50",
   "metadata": {},
   "outputs": [],
   "source": []
  },
  {
   "cell_type": "code",
   "execution_count": 12,
   "id": "aa037f1d",
   "metadata": {},
   "outputs": [],
   "source": [
    "# ETL Baseball Team Patroll"
   ]
  },
  {
   "cell_type": "code",
   "execution_count": null,
   "id": "b7361f61",
   "metadata": {},
   "outputs": [],
   "source": []
  },
  {
   "cell_type": "code",
   "execution_count": 13,
   "id": "326f4d6e",
   "metadata": {},
   "outputs": [
    {
     "ename": "NameError",
     "evalue": "name 'conn' is not defined",
     "output_type": "error",
     "traceback": [
      "\u001b[1;31m---------------------------------------------------------------------------\u001b[0m",
      "\u001b[1;31mNameError\u001b[0m                                 Traceback (most recent call last)",
      "Input \u001b[1;32mIn [13]\u001b[0m, in \u001b[0;36m<cell line: 2>\u001b[1;34m()\u001b[0m\n\u001b[0;32m      1\u001b[0m \u001b[38;5;66;03m#session.close()\u001b[39;00m\n\u001b[1;32m----> 2\u001b[0m \u001b[43mconn\u001b[49m\u001b[38;5;241m.\u001b[39mclose()\n",
      "\u001b[1;31mNameError\u001b[0m: name 'conn' is not defined"
     ]
    }
   ],
   "source": [
    "#session.close()\n",
    "#conn.close()"
   ]
  }
 ],
 "metadata": {
  "kernelspec": {
   "display_name": "Python 3 (ipykernel)",
   "language": "python",
   "name": "python3"
  },
  "language_info": {
   "codemirror_mode": {
    "name": "ipython",
    "version": 3
   },
   "file_extension": ".py",
   "mimetype": "text/x-python",
   "name": "python",
   "nbconvert_exporter": "python",
   "pygments_lexer": "ipython3",
   "version": "3.9.12"
  }
 },
 "nbformat": 4,
 "nbformat_minor": 5
}
