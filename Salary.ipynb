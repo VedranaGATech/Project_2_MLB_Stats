{
 "cells": [
  {
   "cell_type": "code",
   "execution_count": 16,
   "id": "c0d6aa98",
   "metadata": {},
   "outputs": [],
   "source": [
    "import os\n",
    "import csv\n",
    "import pandas as pd\n",
    "import datetime as dt\n",
    "import matplotlib.pyplot as plt"
   ]
  },
  {
   "cell_type": "code",
   "execution_count": 17,
   "id": "6e13efbe",
   "metadata": {},
   "outputs": [
    {
     "data": {
      "text/html": [
       "<div>\n",
       "<style scoped>\n",
       "    .dataframe tbody tr th:only-of-type {\n",
       "        vertical-align: middle;\n",
       "    }\n",
       "\n",
       "    .dataframe tbody tr th {\n",
       "        vertical-align: top;\n",
       "    }\n",
       "\n",
       "    .dataframe thead th {\n",
       "        text-align: right;\n",
       "    }\n",
       "</style>\n",
       "<table border=\"1\" class=\"dataframe\">\n",
       "  <thead>\n",
       "    <tr style=\"text-align: right;\">\n",
       "      <th></th>\n",
       "      <th>team</th>\n",
       "      <th>year</th>\n",
       "      <th>name</th>\n",
       "      <th>war</th>\n",
       "      <th>sal</th>\n",
       "      <th>exp</th>\n",
       "      <th>playerid</th>\n",
       "      <th>lastsal</th>\n",
       "    </tr>\n",
       "  </thead>\n",
       "  <tbody>\n",
       "    <tr>\n",
       "      <th>0</th>\n",
       "      <td>ARI</td>\n",
       "      <td>2005</td>\n",
       "      <td>Armando Almanza</td>\n",
       "      <td>0.2</td>\n",
       "      <td>0</td>\n",
       "      <td>7</td>\n",
       "      <td>almanar01</td>\n",
       "      <td>500000.0</td>\n",
       "    </tr>\n",
       "    <tr>\n",
       "      <th>1</th>\n",
       "      <td>ARI</td>\n",
       "      <td>2005</td>\n",
       "      <td>Greg Aquino</td>\n",
       "      <td>-1.0</td>\n",
       "      <td>325000</td>\n",
       "      <td>2</td>\n",
       "      <td>aquingr01</td>\n",
       "      <td>300000.0</td>\n",
       "    </tr>\n",
       "    <tr>\n",
       "      <th>2</th>\n",
       "      <td>ARI</td>\n",
       "      <td>2005</td>\n",
       "      <td>Brian Bruney</td>\n",
       "      <td>-1.6</td>\n",
       "      <td>322500</td>\n",
       "      <td>2</td>\n",
       "      <td>brunebr01</td>\n",
       "      <td>300000.0</td>\n",
       "    </tr>\n",
       "    <tr>\n",
       "      <th>3</th>\n",
       "      <td>ARI</td>\n",
       "      <td>2005</td>\n",
       "      <td>Randy Choate</td>\n",
       "      <td>-0.4</td>\n",
       "      <td>550000</td>\n",
       "      <td>6</td>\n",
       "      <td>choatra01</td>\n",
       "      <td>325750.0</td>\n",
       "    </tr>\n",
       "    <tr>\n",
       "      <th>4</th>\n",
       "      <td>ARI</td>\n",
       "      <td>2005</td>\n",
       "      <td>Alex Cintron</td>\n",
       "      <td>-0.2</td>\n",
       "      <td>360000</td>\n",
       "      <td>5</td>\n",
       "      <td>cintral01</td>\n",
       "      <td>335000.0</td>\n",
       "    </tr>\n",
       "  </tbody>\n",
       "</table>\n",
       "</div>"
      ],
      "text/plain": [
       "  team  year             name  war     sal  exp   playerid   lastsal\n",
       "0  ARI  2005  Armando Almanza  0.2       0    7  almanar01  500000.0\n",
       "1  ARI  2005      Greg Aquino -1.0  325000    2  aquingr01  300000.0\n",
       "2  ARI  2005     Brian Bruney -1.6  322500    2  brunebr01  300000.0\n",
       "3  ARI  2005     Randy Choate -0.4  550000    6  choatra01  325750.0\n",
       "4  ARI  2005     Alex Cintron -0.2  360000    5  cintral01  335000.0"
      ]
     },
     "execution_count": 17,
     "metadata": {},
     "output_type": "execute_result"
    }
   ],
   "source": [
    "basebSal= pd.read_csv('Resources/baseball_reference.csv')\n",
    "basebSal.head() "
   ]
  },
  {
   "cell_type": "code",
   "execution_count": 20,
   "id": "6ab0b010",
   "metadata": {},
   "outputs": [
    {
     "name": "stdout",
     "output_type": "stream",
     "text": [
      "WORLD CHAMPS Average Salary:4,556,290.49\n",
      "WORST TEAM Average Salary:2,141,847.22\n"
     ]
    }
   ],
   "source": [
    "sanfran = basebSal.loc[(basebSal['team'] =='SFG')&(basebSal['year'] == 2014)]\n",
    "airDia = basebSal.loc[(basebSal['team'] =='ARI')&(basebSal['year'] == 2014)]\n",
    "sanfran_sal = sanfran[\"sal\"].mean()\n",
    "airDiasal = airDia[\"sal\"].mean()\n",
    "print(f\"WORLD CHAMPS Average Salary:{sanfran_sal:,.2f}\")\n",
    "print(f\"WORST TEAM Average Salary:{airDiasal:,.2f}\")"
   ]
  },
  {
   "cell_type": "code",
   "execution_count": 22,
   "id": "b5a46b8c",
   "metadata": {},
   "outputs": [
    {
     "name": "stdout",
     "output_type": "stream",
     "text": [
      "WORLD CHAMPS Average Salary:3,030,316.45\n",
      "WORST TEAM Average Salary:1,682,794.12\n"
     ]
    }
   ],
   "source": [
    "kcR= basebSal.loc[(basebSal['team'] =='KCR')&(basebSal['year'] == 2015)]\n",
    "kcRsal=kcR[\"sal\"].mean()\n",
    "print(f\"WORLD CHAMPS Average Salary:{kcRsal:,.2f}\")\n",
    "philP= basebSal.loc[(basebSal['team'] =='PHI')&(basebSal['year'] == 2015)]\n",
    "philPsal=philP[\"sal\"].mean()\n",
    "print(f\"WORST TEAM Average Salary:{philPsal:,.2f}\")"
   ]
  },
  {
   "cell_type": "code",
   "execution_count": 25,
   "id": "7085744c",
   "metadata": {},
   "outputs": [
    {
     "name": "stdout",
     "output_type": "stream",
     "text": [
      "WORLD CHAMPS Average Salary:4,514,790.59\n",
      "WORST TEAM Average Salary:2,395,572.97\n"
     ]
    }
   ],
   "source": [
    "chiCubs = basebSal.loc[(basebSal['team'] =='CHC')&(basebSal['year'] == 2016)]\n",
    "chiCubsal = chiCubs[\"sal\"].mean()\n",
    "print(f\"WORLD CHAMPS Average Salary:{chiCubsal:,.2f}\")\n",
    "minTwins= basebSal.loc[(basebSal['team'] =='MIN')&(basebSal['year'] == 2016)]\n",
    "minTwinsal=minTwins[\"sal\"].mean()\n",
    "print(f\"WORST TEAM Average Salary:{minTwinsal:,.2f}\")"
   ]
  },
  {
   "cell_type": "code",
   "execution_count": 28,
   "id": "44c02357",
   "metadata": {
    "scrolled": true
   },
   "outputs": [
    {
     "name": "stdout",
     "output_type": "stream",
     "text": [
      "WORLD CHAMPS Average Salary:3,985,035.00\n",
      "WORST TEAM Average Salary:5,042,880.94\n"
     ]
    }
   ],
   "source": [
    "housAstro = basebSal.loc[(basebSal['team'] =='HOU')&(basebSal['year'] == 2017)]\n",
    "houAstrosal = housAstro[\"sal\"].mean()\n",
    "print(f\"WORLD CHAMPS Average Salary:{houAstrosal:,.2f}\")\n",
    "sfg= basebSal.loc[(basebSal['team'] =='SFG')&(basebSal['year'] == 2017)]\n",
    "sfgSal=sfg[\"sal\"].mean()\n",
    "print(f\"WORST TEAM Average Salary:{sfgSal:,.2f}\")"
   ]
  },
  {
   "cell_type": "code",
   "execution_count": 34,
   "id": "16552965",
   "metadata": {},
   "outputs": [
    {
     "name": "stdout",
     "output_type": "stream",
     "text": [
      "WORLD CHAMPS Average Salary:5,196,341.46\n",
      "WORST TEAM Average Salary:4,041,559.13\n"
     ]
    }
   ],
   "source": [
    "bostRed = basebSal.loc[(basebSal['team'] =='BOS')&(basebSal['year'] == 2018)]\n",
    "bostRedsal= bostRed[\"sal\"].mean()\n",
    "print(f\"WORLD CHAMPS Average Salary:{bostRedsal:,.2f}\")\n",
    "balOs= basebSal.loc[(basebSal['team'] =='BAL')&(basebSal['year'] == 2018)]\n",
    "balosal=balOs[\"sal\"].mean()\n",
    "print(f\"WORST TEAM Average Salary:{balosal:,.2f}\")"
   ]
  },
  {
   "cell_type": "code",
   "execution_count": 36,
   "id": "cadacd76",
   "metadata": {},
   "outputs": [
    {
     "name": "stdout",
     "output_type": "stream",
     "text": [
      "WORLD CHAMPS Average Salary:4,346,519.39\n",
      "WORST TEAM Average Salary:2,172,057.14\n"
     ]
    }
   ],
   "source": [
    "wasNats = basebSal.loc[(basebSal['team'] =='WSN')&(basebSal['year'] == 2019)]\n",
    "wasNatsal= wasNats[\"sal\"].mean()\n",
    "print(f\"WORLD CHAMPS Average Salary:{wasNatsal:,.2f}\")\n",
    "detTig= basebSal.loc[(basebSal['team'] =='DET')&(basebSal['year'] == 2019)]\n",
    "detTigsal=detTig[\"sal\"].mean()\n",
    "print(f\"WORST TEAM Average Salary:{detTigsal:,.2f}\")"
   ]
  }
 ],
 "metadata": {
  "kernelspec": {
   "display_name": "Python 3 (ipykernel)",
   "language": "python",
   "name": "python3"
  },
  "language_info": {
   "codemirror_mode": {
    "name": "ipython",
    "version": 3
   },
   "file_extension": ".py",
   "mimetype": "text/x-python",
   "name": "python",
   "nbconvert_exporter": "python",
   "pygments_lexer": "ipython3",
   "version": "3.9.7"
  }
 },
 "nbformat": 4,
 "nbformat_minor": 5
}
